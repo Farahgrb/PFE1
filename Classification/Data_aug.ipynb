{
  "nbformat": 4,
  "nbformat_minor": 0,
  "metadata": {
    "colab": {
      "provenance": [],
      "gpuType": "T4"
    },
    "kernelspec": {
      "name": "python3",
      "display_name": "Python 3"
    },
    "language_info": {
      "name": "python"
    },
    "accelerator": "GPU"
  },
  "cells": [
    {
      "cell_type": "code",
      "source": [
        "!pip install nlpaug"
      ],
      "metadata": {
        "colab": {
          "base_uri": "https://localhost:8080/"
        },
        "id": "FJno8MOotbas",
        "outputId": "5c08f545-f617-426e-9f0f-29b97b629109"
      },
      "execution_count": null,
      "outputs": [
        {
          "output_type": "stream",
          "name": "stdout",
          "text": [
            "Looking in indexes: https://pypi.org/simple, https://us-python.pkg.dev/colab-wheels/public/simple/\n",
            "Collecting nlpaug\n",
            "  Downloading nlpaug-1.1.11-py3-none-any.whl (410 kB)\n",
            "\u001b[2K     \u001b[90m━━━━━━━━━━━━━━━━━━━━━━━━━━━━━━━━━━━━━━━\u001b[0m \u001b[32m410.5/410.5 kB\u001b[0m \u001b[31m9.3 MB/s\u001b[0m eta \u001b[36m0:00:00\u001b[0m\n",
            "\u001b[?25hRequirement already satisfied: numpy>=1.16.2 in /usr/local/lib/python3.10/dist-packages (from nlpaug) (1.22.4)\n",
            "Requirement already satisfied: pandas>=1.2.0 in /usr/local/lib/python3.10/dist-packages (from nlpaug) (1.5.3)\n",
            "Requirement already satisfied: requests>=2.22.0 in /usr/local/lib/python3.10/dist-packages (from nlpaug) (2.27.1)\n",
            "Requirement already satisfied: gdown>=4.0.0 in /usr/local/lib/python3.10/dist-packages (from nlpaug) (4.6.6)\n",
            "Requirement already satisfied: filelock in /usr/local/lib/python3.10/dist-packages (from gdown>=4.0.0->nlpaug) (3.12.0)\n",
            "Requirement already satisfied: six in /usr/local/lib/python3.10/dist-packages (from gdown>=4.0.0->nlpaug) (1.16.0)\n",
            "Requirement already satisfied: tqdm in /usr/local/lib/python3.10/dist-packages (from gdown>=4.0.0->nlpaug) (4.65.0)\n",
            "Requirement already satisfied: beautifulsoup4 in /usr/local/lib/python3.10/dist-packages (from gdown>=4.0.0->nlpaug) (4.11.2)\n",
            "Requirement already satisfied: python-dateutil>=2.8.1 in /usr/local/lib/python3.10/dist-packages (from pandas>=1.2.0->nlpaug) (2.8.2)\n",
            "Requirement already satisfied: pytz>=2020.1 in /usr/local/lib/python3.10/dist-packages (from pandas>=1.2.0->nlpaug) (2022.7.1)\n",
            "Requirement already satisfied: urllib3<1.27,>=1.21.1 in /usr/local/lib/python3.10/dist-packages (from requests>=2.22.0->nlpaug) (1.26.15)\n",
            "Requirement already satisfied: certifi>=2017.4.17 in /usr/local/lib/python3.10/dist-packages (from requests>=2.22.0->nlpaug) (2022.12.7)\n",
            "Requirement already satisfied: charset-normalizer~=2.0.0 in /usr/local/lib/python3.10/dist-packages (from requests>=2.22.0->nlpaug) (2.0.12)\n",
            "Requirement already satisfied: idna<4,>=2.5 in /usr/local/lib/python3.10/dist-packages (from requests>=2.22.0->nlpaug) (3.4)\n",
            "Requirement already satisfied: soupsieve>1.2 in /usr/local/lib/python3.10/dist-packages (from beautifulsoup4->gdown>=4.0.0->nlpaug) (2.4.1)\n",
            "Requirement already satisfied: PySocks!=1.5.7,>=1.5.6 in /usr/local/lib/python3.10/dist-packages (from requests>=2.22.0->nlpaug) (1.7.1)\n",
            "Installing collected packages: nlpaug\n",
            "Successfully installed nlpaug-1.1.11\n"
          ]
        }
      ]
    },
    {
      "cell_type": "code",
      "execution_count": null,
      "metadata": {
        "id": "u8BvrOAVsom0"
      },
      "outputs": [],
      "source": [
        "import pandas as pd\n",
        "import nlpaug.augmenter.word as naw\n",
        "\n",
        "from sklearn.model_selection import train_test_split"
      ]
    },
    {
      "cell_type": "code",
      "source": [
        "data=pd.read_csv('/content/Clean_final_hate_data.csv')"
      ],
      "metadata": {
        "id": "cDlGrttItgKM"
      },
      "execution_count": null,
      "outputs": []
    },
    {
      "cell_type": "code",
      "source": [
        "# Load your train set\n",
        "train_set, test_set = train_test_split( data, test_size= 0.2, random_state= 42)\n",
        "\n",
        "\n"
      ],
      "metadata": {
        "id": "SIqDRBxktZ54"
      },
      "execution_count": null,
      "outputs": []
    },
    {
      "cell_type": "code",
      "source": [
        "train_set.head()"
      ],
      "metadata": {
        "colab": {
          "base_uri": "https://localhost:8080/",
          "height": 206
        },
        "id": "9BnNujihuOOh",
        "outputId": "64f18104-cd5d-4ac2-9185-c51f8444cccd"
      },
      "execution_count": null,
      "outputs": [
        {
          "output_type": "execute_result",
          "data": {
            "text/plain": [
              "                                               Tweet           label\n",
              "0                                       فأنتظروا حرب          normal\n",
              "1  الله رفيقه طلعلي حب شباب حبالي الصوتيه انا عم ...         Abusive\n",
              "2                                     هههههههه رضاها          normal\n",
              "3  فرق الصراحة الوقاحة عمليات التجميل النفخ شوارب...         Abusive\n",
              "4             حشومة أبنت الناس راعي غير للراجل ديالك  discrimination"
            ],
            "text/html": [
              "\n",
              "  <div id=\"df-6e5cc169-5c66-4d9d-a897-a1e6086fd0eb\">\n",
              "    <div class=\"colab-df-container\">\n",
              "      <div>\n",
              "<style scoped>\n",
              "    .dataframe tbody tr th:only-of-type {\n",
              "        vertical-align: middle;\n",
              "    }\n",
              "\n",
              "    .dataframe tbody tr th {\n",
              "        vertical-align: top;\n",
              "    }\n",
              "\n",
              "    .dataframe thead th {\n",
              "        text-align: right;\n",
              "    }\n",
              "</style>\n",
              "<table border=\"1\" class=\"dataframe\">\n",
              "  <thead>\n",
              "    <tr style=\"text-align: right;\">\n",
              "      <th></th>\n",
              "      <th>Tweet</th>\n",
              "      <th>label</th>\n",
              "    </tr>\n",
              "  </thead>\n",
              "  <tbody>\n",
              "    <tr>\n",
              "      <th>0</th>\n",
              "      <td>فأنتظروا حرب</td>\n",
              "      <td>normal</td>\n",
              "    </tr>\n",
              "    <tr>\n",
              "      <th>1</th>\n",
              "      <td>الله رفيقه طلعلي حب شباب حبالي الصوتيه انا عم ...</td>\n",
              "      <td>Abusive</td>\n",
              "    </tr>\n",
              "    <tr>\n",
              "      <th>2</th>\n",
              "      <td>هههههههه رضاها</td>\n",
              "      <td>normal</td>\n",
              "    </tr>\n",
              "    <tr>\n",
              "      <th>3</th>\n",
              "      <td>فرق الصراحة الوقاحة عمليات التجميل النفخ شوارب...</td>\n",
              "      <td>Abusive</td>\n",
              "    </tr>\n",
              "    <tr>\n",
              "      <th>4</th>\n",
              "      <td>حشومة أبنت الناس راعي غير للراجل ديالك</td>\n",
              "      <td>discrimination</td>\n",
              "    </tr>\n",
              "  </tbody>\n",
              "</table>\n",
              "</div>\n",
              "      <button class=\"colab-df-convert\" onclick=\"convertToInteractive('df-6e5cc169-5c66-4d9d-a897-a1e6086fd0eb')\"\n",
              "              title=\"Convert this dataframe to an interactive table.\"\n",
              "              style=\"display:none;\">\n",
              "        \n",
              "  <svg xmlns=\"http://www.w3.org/2000/svg\" height=\"24px\"viewBox=\"0 0 24 24\"\n",
              "       width=\"24px\">\n",
              "    <path d=\"M0 0h24v24H0V0z\" fill=\"none\"/>\n",
              "    <path d=\"M18.56 5.44l.94 2.06.94-2.06 2.06-.94-2.06-.94-.94-2.06-.94 2.06-2.06.94zm-11 1L8.5 8.5l.94-2.06 2.06-.94-2.06-.94L8.5 2.5l-.94 2.06-2.06.94zm10 10l.94 2.06.94-2.06 2.06-.94-2.06-.94-.94-2.06-.94 2.06-2.06.94z\"/><path d=\"M17.41 7.96l-1.37-1.37c-.4-.4-.92-.59-1.43-.59-.52 0-1.04.2-1.43.59L10.3 9.45l-7.72 7.72c-.78.78-.78 2.05 0 2.83L4 21.41c.39.39.9.59 1.41.59.51 0 1.02-.2 1.41-.59l7.78-7.78 2.81-2.81c.8-.78.8-2.07 0-2.86zM5.41 20L4 18.59l7.72-7.72 1.47 1.35L5.41 20z\"/>\n",
              "  </svg>\n",
              "      </button>\n",
              "      \n",
              "  <style>\n",
              "    .colab-df-container {\n",
              "      display:flex;\n",
              "      flex-wrap:wrap;\n",
              "      gap: 12px;\n",
              "    }\n",
              "\n",
              "    .colab-df-convert {\n",
              "      background-color: #E8F0FE;\n",
              "      border: none;\n",
              "      border-radius: 50%;\n",
              "      cursor: pointer;\n",
              "      display: none;\n",
              "      fill: #1967D2;\n",
              "      height: 32px;\n",
              "      padding: 0 0 0 0;\n",
              "      width: 32px;\n",
              "    }\n",
              "\n",
              "    .colab-df-convert:hover {\n",
              "      background-color: #E2EBFA;\n",
              "      box-shadow: 0px 1px 2px rgba(60, 64, 67, 0.3), 0px 1px 3px 1px rgba(60, 64, 67, 0.15);\n",
              "      fill: #174EA6;\n",
              "    }\n",
              "\n",
              "    [theme=dark] .colab-df-convert {\n",
              "      background-color: #3B4455;\n",
              "      fill: #D2E3FC;\n",
              "    }\n",
              "\n",
              "    [theme=dark] .colab-df-convert:hover {\n",
              "      background-color: #434B5C;\n",
              "      box-shadow: 0px 1px 3px 1px rgba(0, 0, 0, 0.15);\n",
              "      filter: drop-shadow(0px 1px 2px rgba(0, 0, 0, 0.3));\n",
              "      fill: #FFFFFF;\n",
              "    }\n",
              "  </style>\n",
              "\n",
              "      <script>\n",
              "        const buttonEl =\n",
              "          document.querySelector('#df-6e5cc169-5c66-4d9d-a897-a1e6086fd0eb button.colab-df-convert');\n",
              "        buttonEl.style.display =\n",
              "          google.colab.kernel.accessAllowed ? 'block' : 'none';\n",
              "\n",
              "        async function convertToInteractive(key) {\n",
              "          const element = document.querySelector('#df-6e5cc169-5c66-4d9d-a897-a1e6086fd0eb');\n",
              "          const dataTable =\n",
              "            await google.colab.kernel.invokeFunction('convertToInteractive',\n",
              "                                                     [key], {});\n",
              "          if (!dataTable) return;\n",
              "\n",
              "          const docLinkHtml = 'Like what you see? Visit the ' +\n",
              "            '<a target=\"_blank\" href=https://colab.research.google.com/notebooks/data_table.ipynb>data table notebook</a>'\n",
              "            + ' to learn more about interactive tables.';\n",
              "          element.innerHTML = '';\n",
              "          dataTable['output_type'] = 'display_data';\n",
              "          await google.colab.output.renderOutput(dataTable, element);\n",
              "          const docLink = document.createElement('div');\n",
              "          docLink.innerHTML = docLinkHtml;\n",
              "          element.appendChild(docLink);\n",
              "        }\n",
              "      </script>\n",
              "    </div>\n",
              "  </div>\n",
              "  "
            ]
          },
          "metadata": {},
          "execution_count": 14
        }
      ]
    },
    {
      "cell_type": "code",
      "source": [
        "# train_set.drop(\"Unnamed: 0\", axis=1, inplace=True)\n",
        "# train_set.drop(\"Class\", axis=1, inplace=True)\n",
        "# train_set.drop(\"type\", axis=1, inplace=True)\n",
        "train_set.reset_index(drop=True, inplace=True)"
      ],
      "metadata": {
        "id": "HnuAOOEeuOLU"
      },
      "execution_count": null,
      "outputs": []
    },
    {
      "cell_type": "code",
      "source": [
        "!pip install transformers"
      ],
      "metadata": {
        "colab": {
          "base_uri": "https://localhost:8080/"
        },
        "id": "2NGY01ihvxgi",
        "outputId": "5616013f-020e-4e02-f6c4-ef4b4dfedd93"
      },
      "execution_count": null,
      "outputs": [
        {
          "output_type": "stream",
          "name": "stdout",
          "text": [
            "Looking in indexes: https://pypi.org/simple, https://us-python.pkg.dev/colab-wheels/public/simple/\n",
            "Collecting transformers\n",
            "  Downloading transformers-4.30.2-py3-none-any.whl (7.2 MB)\n",
            "\u001b[2K     \u001b[90m━━━━━━━━━━━━━━━━━━━━━━━━━━━━━━━━━━━━━━━━\u001b[0m \u001b[32m7.2/7.2 MB\u001b[0m \u001b[31m59.6 MB/s\u001b[0m eta \u001b[36m0:00:00\u001b[0m\n",
            "\u001b[?25hRequirement already satisfied: filelock in /usr/local/lib/python3.10/dist-packages (from transformers) (3.12.0)\n",
            "Collecting huggingface-hub<1.0,>=0.14.1 (from transformers)\n",
            "  Downloading huggingface_hub-0.15.1-py3-none-any.whl (236 kB)\n",
            "\u001b[2K     \u001b[90m━━━━━━━━━━━━━━━━━━━━━━━━━━━━━━━━━━━━━━\u001b[0m \u001b[32m236.8/236.8 kB\u001b[0m \u001b[31m29.5 MB/s\u001b[0m eta \u001b[36m0:00:00\u001b[0m\n",
            "\u001b[?25hRequirement already satisfied: numpy>=1.17 in /usr/local/lib/python3.10/dist-packages (from transformers) (1.22.4)\n",
            "Requirement already satisfied: packaging>=20.0 in /usr/local/lib/python3.10/dist-packages (from transformers) (23.1)\n",
            "Requirement already satisfied: pyyaml>=5.1 in /usr/local/lib/python3.10/dist-packages (from transformers) (6.0)\n",
            "Requirement already satisfied: regex!=2019.12.17 in /usr/local/lib/python3.10/dist-packages (from transformers) (2022.10.31)\n",
            "Requirement already satisfied: requests in /usr/local/lib/python3.10/dist-packages (from transformers) (2.27.1)\n",
            "Collecting tokenizers!=0.11.3,<0.14,>=0.11.1 (from transformers)\n",
            "  Downloading tokenizers-0.13.3-cp310-cp310-manylinux_2_17_x86_64.manylinux2014_x86_64.whl (7.8 MB)\n",
            "\u001b[2K     \u001b[90m━━━━━━━━━━━━━━━━━━━━━━━━━━━━━━━━━━━━━━━━\u001b[0m \u001b[32m7.8/7.8 MB\u001b[0m \u001b[31m60.6 MB/s\u001b[0m eta \u001b[36m0:00:00\u001b[0m\n",
            "\u001b[?25hCollecting safetensors>=0.3.1 (from transformers)\n",
            "  Downloading safetensors-0.3.1-cp310-cp310-manylinux_2_17_x86_64.manylinux2014_x86_64.whl (1.3 MB)\n",
            "\u001b[2K     \u001b[90m━━━━━━━━━━━━━━━━━━━━━━━━━━━━━━━━━━━━━━━━\u001b[0m \u001b[32m1.3/1.3 MB\u001b[0m \u001b[31m86.0 MB/s\u001b[0m eta \u001b[36m0:00:00\u001b[0m\n",
            "\u001b[?25hRequirement already satisfied: tqdm>=4.27 in /usr/local/lib/python3.10/dist-packages (from transformers) (4.65.0)\n",
            "Requirement already satisfied: fsspec in /usr/local/lib/python3.10/dist-packages (from huggingface-hub<1.0,>=0.14.1->transformers) (2023.4.0)\n",
            "Requirement already satisfied: typing-extensions>=3.7.4.3 in /usr/local/lib/python3.10/dist-packages (from huggingface-hub<1.0,>=0.14.1->transformers) (4.5.0)\n",
            "Requirement already satisfied: urllib3<1.27,>=1.21.1 in /usr/local/lib/python3.10/dist-packages (from requests->transformers) (1.26.15)\n",
            "Requirement already satisfied: certifi>=2017.4.17 in /usr/local/lib/python3.10/dist-packages (from requests->transformers) (2022.12.7)\n",
            "Requirement already satisfied: charset-normalizer~=2.0.0 in /usr/local/lib/python3.10/dist-packages (from requests->transformers) (2.0.12)\n",
            "Requirement already satisfied: idna<4,>=2.5 in /usr/local/lib/python3.10/dist-packages (from requests->transformers) (3.4)\n",
            "Installing collected packages: tokenizers, safetensors, huggingface-hub, transformers\n",
            "Successfully installed huggingface-hub-0.15.1 safetensors-0.3.1 tokenizers-0.13.3 transformers-4.30.2\n"
          ]
        }
      ]
    },
    {
      "cell_type": "code",
      "source": [
        "import pandas as pd\n",
        "import time\n",
        "import nlpaug.augmenter.word as naw\n",
        "\n",
        "\n",
        "\n",
        "# Initialize the augmentation technique\n",
        "augmenter = naw.ContextualWordEmbsAug(model_path='bert-base-multilingual-cased', action='substitute')\n",
        "\n",
        "# Set the time limit in seconds\n",
        "time_limit = 600\n",
        "start_time = time.time()\n",
        "\n",
        "# Augment the data\n",
        "augmented_data = []\n",
        "for index, row in train_set.iterrows():\n",
        "    tweet = row['Tweet']\n",
        "    augmented_tweet = augmenter.augment(tweet)\n",
        "    augmented_data.append({'Tweet': augmented_tweet, 'label': row['label']})\n",
        "\n",
        "    # Check if the time limit has been reached\n",
        "    if time.time() - start_time >= time_limit:\n",
        "        print(f\"Time limit of {time_limit} seconds reached. Stopping augmentation process.\")\n",
        "        break\n",
        "\n",
        "# Convert the augmented data to a DataFrame\n",
        "augmented_df = pd.DataFrame(augmented_data)\n",
        "\n",
        "# Combine the original and augmented data\n",
        "combined_data = pd.concat([train_set, augmented_df])\n",
        "\n",
        "# Save the augmented data to a new file\n",
        "combined_data.to_csv('augmented_train_set.csv', index=False)"
      ],
      "metadata": {
        "colab": {
          "base_uri": "https://localhost:8080/"
        },
        "id": "sEHErR_uuCAK",
        "outputId": "ed1c2578-6b63-460a-86fc-3c64acf1d447"
      },
      "execution_count": null,
      "outputs": [
        {
          "output_type": "stream",
          "name": "stdout",
          "text": [
            "Time limit of 600 seconds reached. Stopping augmentation process.\n"
          ]
        }
      ]
    },
    {
      "cell_type": "code",
      "source": [
        "combined_data['label'].value_counts()"
      ],
      "metadata": {
        "colab": {
          "base_uri": "https://localhost:8080/"
        },
        "id": "XzXiOj3vvCfL",
        "outputId": "33b82fc1-f0c0-4478-d969-0e67e3449ff1"
      },
      "execution_count": null,
      "outputs": [
        {
          "output_type": "execute_result",
          "data": {
            "text/plain": [
              "Abusive           2850\n",
              "normal            2845\n",
              "discrimination    2823\n",
              "Name: label, dtype: int64"
            ]
          },
          "metadata": {},
          "execution_count": 47
        }
      ]
    },
    {
      "cell_type": "code",
      "source": [
        "in"
      ],
      "metadata": {
        "id": "HQtW9DqOcGGQ"
      },
      "execution_count": null,
      "outputs": []
    },
    {
      "cell_type": "code",
      "source": [
        "train_set['label'].value_counts()"
      ],
      "metadata": {
        "colab": {
          "base_uri": "https://localhost:8080/"
        },
        "id": "wqapZqVv4mu7",
        "outputId": "84ac3dac-4270-4574-ae87-e252be8207a7"
      },
      "execution_count": null,
      "outputs": [
        {
          "output_type": "execute_result",
          "data": {
            "text/plain": [
              "Abusive           2850\n",
              "normal            2845\n",
              "discrimination    2823\n",
              "Name: label, dtype: int64"
            ]
          },
          "metadata": {},
          "execution_count": 64
        }
      ]
    },
    {
      "cell_type": "code",
      "source": [
        "import pandas as pd\n",
        "import time\n",
        "import nlpaug.augmenter.word as naw\n",
        "\n",
        "# Initialize the augmentation technique\n",
        "augmenter = naw.ContextualWordEmbsAug(model_path='bert-base-multilingual-cased', action='substitute')\n",
        "\n",
        "# Set the time limit in seconds\n",
        "time_limit = 1200\n",
        "start_time = time.time()\n",
        "\n",
        "# Augment the data\n",
        "augmented_data = []\n",
        "for index, row in train_set.iterrows():\n",
        "    tweet = row['Tweet']\n",
        "    label = row['label']\n",
        "\n",
        "    if label in [ 'discrimination']:\n",
        "        augmented_tweet = augmenter.augment(tweet)\n",
        "        augmented_data.append({'Tweet': augmented_tweet, 'label': label})\n",
        "\n",
        "    # Check if the time limit has been reached\n",
        "    if time.time() - start_time >= time_limit:\n",
        "        print(f\"Time limit of {time_limit} seconds reached. Stopping augmentation process.\")\n",
        "        break\n",
        "\n",
        "# Convert the augmented data to a DataFrame\n",
        "augmented_df = pd.DataFrame(augmented_data)\n",
        "\n",
        "# Combine the original and augmented data\n",
        "combined_data = pd.concat([train_set, augmented_df])\n",
        "\n",
        "# Save the augmented data to a new file\n",
        "combined_data.to_csv('augmented_train_set3.csv', index=False)"
      ],
      "metadata": {
        "colab": {
          "base_uri": "https://localhost:8080/"
        },
        "id": "FqUB7gEy4xiF",
        "outputId": "c9b5c4fe-79bc-4bcf-80fc-2491d4ce623c"
      },
      "execution_count": null,
      "outputs": [
        {
          "output_type": "stream",
          "name": "stdout",
          "text": [
            "Time limit of 1200 seconds reached. Stopping augmentation process.\n"
          ]
        }
      ]
    },
    {
      "cell_type": "code",
      "source": [
        "train_set=combined_data"
      ],
      "metadata": {
        "id": "VypAPrf18Kx2"
      },
      "execution_count": null,
      "outputs": []
    },
    {
      "cell_type": "code",
      "source": [
        "train_set[train_set['label']=='discrimination'].tail(20)"
      ],
      "metadata": {
        "colab": {
          "base_uri": "https://localhost:8080/",
          "height": 676
        },
        "id": "ln5y3Ksz-y5x",
        "outputId": "7b98614c-560a-43bb-bc32-3edde8193eb8"
      },
      "execution_count": null,
      "outputs": [
        {
          "output_type": "execute_result",
          "data": {
            "text/plain": [
              "      index                                              Tweet           label\n",
              "8498    409                  ايفونمقدممنروزللاتصالاتيارب   ...  discrimination\n",
              "8499    410                   حبيبي يا مكاوي يا أغني واوس  ...  discrimination\n",
              "8500    411                   يااااااااارب دايما بخير يا   ...  discrimination\n",
              "8501    412                                  امي يا زينة   ...  discrimination\n",
              "8502    413                   يا عدرا يا أم النــور الدني  ...  discrimination\n",
              "8503    414                  اكبر مببون ديوث برا تلها باخ  ...  discrimination\n",
              "8504    415                  حبيت نقول لاكي القحبة الجاهل  ...  discrimination\n",
              "8505    416                       مغربي لطفي اناني شمس ال  ...  discrimination\n",
              "8506    417                  بالنا زادا الفقير يصير ثري و  ...  discrimination\n",
              "8507    418                  مالك لأهم مسلمين لأهم كافرين  ...  discrimination\n",
              "8508    419                  خي ولد عوطف مسلسل ماهوش يوفا  ...  discrimination\n",
              "8509    420                  ههههههههه تستاهل يرحم جاباتو  ...  discrimination\n",
              "8510    421                  يسترعلى الامه الاسلاميه ربي   ...  discrimination\n",
              "8511    422                   احلى فاصل يا فيصل واحلى سلط  ...  discrimination\n",
              "8512    423                  يومكم جاي يا روافض يا قرامطه  ...  discrimination\n",
              "8513    424                  يحبو يلهونا بالمساواة الميرا  ...  discrimination\n",
              "8514    425                                           لطف  ...  discrimination\n",
              "8515    426                   حياتي كلها عبارة عن تاني يا  ...  discrimination\n",
              "8516    427                                                ...  discrimination\n",
              "8517    428                   معك حق من شوي طلع الحريري و  ...  discrimination"
            ],
            "text/html": [
              "\n",
              "  <div id=\"df-2368953d-a331-41e5-8f1b-9bedb1203513\">\n",
              "    <div class=\"colab-df-container\">\n",
              "      <div>\n",
              "<style scoped>\n",
              "    .dataframe tbody tr th:only-of-type {\n",
              "        vertical-align: middle;\n",
              "    }\n",
              "\n",
              "    .dataframe tbody tr th {\n",
              "        vertical-align: top;\n",
              "    }\n",
              "\n",
              "    .dataframe thead th {\n",
              "        text-align: right;\n",
              "    }\n",
              "</style>\n",
              "<table border=\"1\" class=\"dataframe\">\n",
              "  <thead>\n",
              "    <tr style=\"text-align: right;\">\n",
              "      <th></th>\n",
              "      <th>index</th>\n",
              "      <th>Tweet</th>\n",
              "      <th>label</th>\n",
              "    </tr>\n",
              "  </thead>\n",
              "  <tbody>\n",
              "    <tr>\n",
              "      <th>8498</th>\n",
              "      <td>409</td>\n",
              "      <td>ايفونمقدممنروزللاتصالاتيارب   ...</td>\n",
              "      <td>discrimination</td>\n",
              "    </tr>\n",
              "    <tr>\n",
              "      <th>8499</th>\n",
              "      <td>410</td>\n",
              "      <td>حبيبي يا مكاوي يا أغني واوس  ...</td>\n",
              "      <td>discrimination</td>\n",
              "    </tr>\n",
              "    <tr>\n",
              "      <th>8500</th>\n",
              "      <td>411</td>\n",
              "      <td>يااااااااارب دايما بخير يا   ...</td>\n",
              "      <td>discrimination</td>\n",
              "    </tr>\n",
              "    <tr>\n",
              "      <th>8501</th>\n",
              "      <td>412</td>\n",
              "      <td>امي يا زينة   ...</td>\n",
              "      <td>discrimination</td>\n",
              "    </tr>\n",
              "    <tr>\n",
              "      <th>8502</th>\n",
              "      <td>413</td>\n",
              "      <td>يا عدرا يا أم النــور الدني  ...</td>\n",
              "      <td>discrimination</td>\n",
              "    </tr>\n",
              "    <tr>\n",
              "      <th>8503</th>\n",
              "      <td>414</td>\n",
              "      <td>اكبر مببون ديوث برا تلها باخ  ...</td>\n",
              "      <td>discrimination</td>\n",
              "    </tr>\n",
              "    <tr>\n",
              "      <th>8504</th>\n",
              "      <td>415</td>\n",
              "      <td>حبيت نقول لاكي القحبة الجاهل  ...</td>\n",
              "      <td>discrimination</td>\n",
              "    </tr>\n",
              "    <tr>\n",
              "      <th>8505</th>\n",
              "      <td>416</td>\n",
              "      <td>مغربي لطفي اناني شمس ال  ...</td>\n",
              "      <td>discrimination</td>\n",
              "    </tr>\n",
              "    <tr>\n",
              "      <th>8506</th>\n",
              "      <td>417</td>\n",
              "      <td>بالنا زادا الفقير يصير ثري و  ...</td>\n",
              "      <td>discrimination</td>\n",
              "    </tr>\n",
              "    <tr>\n",
              "      <th>8507</th>\n",
              "      <td>418</td>\n",
              "      <td>مالك لأهم مسلمين لأهم كافرين  ...</td>\n",
              "      <td>discrimination</td>\n",
              "    </tr>\n",
              "    <tr>\n",
              "      <th>8508</th>\n",
              "      <td>419</td>\n",
              "      <td>خي ولد عوطف مسلسل ماهوش يوفا  ...</td>\n",
              "      <td>discrimination</td>\n",
              "    </tr>\n",
              "    <tr>\n",
              "      <th>8509</th>\n",
              "      <td>420</td>\n",
              "      <td>ههههههههه تستاهل يرحم جاباتو  ...</td>\n",
              "      <td>discrimination</td>\n",
              "    </tr>\n",
              "    <tr>\n",
              "      <th>8510</th>\n",
              "      <td>421</td>\n",
              "      <td>يسترعلى الامه الاسلاميه ربي   ...</td>\n",
              "      <td>discrimination</td>\n",
              "    </tr>\n",
              "    <tr>\n",
              "      <th>8511</th>\n",
              "      <td>422</td>\n",
              "      <td>احلى فاصل يا فيصل واحلى سلط  ...</td>\n",
              "      <td>discrimination</td>\n",
              "    </tr>\n",
              "    <tr>\n",
              "      <th>8512</th>\n",
              "      <td>423</td>\n",
              "      <td>يومكم جاي يا روافض يا قرامطه  ...</td>\n",
              "      <td>discrimination</td>\n",
              "    </tr>\n",
              "    <tr>\n",
              "      <th>8513</th>\n",
              "      <td>424</td>\n",
              "      <td>يحبو يلهونا بالمساواة الميرا  ...</td>\n",
              "      <td>discrimination</td>\n",
              "    </tr>\n",
              "    <tr>\n",
              "      <th>8514</th>\n",
              "      <td>425</td>\n",
              "      <td>لطف  ...</td>\n",
              "      <td>discrimination</td>\n",
              "    </tr>\n",
              "    <tr>\n",
              "      <th>8515</th>\n",
              "      <td>426</td>\n",
              "      <td>حياتي كلها عبارة عن تاني يا  ...</td>\n",
              "      <td>discrimination</td>\n",
              "    </tr>\n",
              "    <tr>\n",
              "      <th>8516</th>\n",
              "      <td>427</td>\n",
              "      <td>...</td>\n",
              "      <td>discrimination</td>\n",
              "    </tr>\n",
              "    <tr>\n",
              "      <th>8517</th>\n",
              "      <td>428</td>\n",
              "      <td>معك حق من شوي طلع الحريري و  ...</td>\n",
              "      <td>discrimination</td>\n",
              "    </tr>\n",
              "  </tbody>\n",
              "</table>\n",
              "</div>\n",
              "      <button class=\"colab-df-convert\" onclick=\"convertToInteractive('df-2368953d-a331-41e5-8f1b-9bedb1203513')\"\n",
              "              title=\"Convert this dataframe to an interactive table.\"\n",
              "              style=\"display:none;\">\n",
              "        \n",
              "  <svg xmlns=\"http://www.w3.org/2000/svg\" height=\"24px\"viewBox=\"0 0 24 24\"\n",
              "       width=\"24px\">\n",
              "    <path d=\"M0 0h24v24H0V0z\" fill=\"none\"/>\n",
              "    <path d=\"M18.56 5.44l.94 2.06.94-2.06 2.06-.94-2.06-.94-.94-2.06-.94 2.06-2.06.94zm-11 1L8.5 8.5l.94-2.06 2.06-.94-2.06-.94L8.5 2.5l-.94 2.06-2.06.94zm10 10l.94 2.06.94-2.06 2.06-.94-2.06-.94-.94-2.06-.94 2.06-2.06.94z\"/><path d=\"M17.41 7.96l-1.37-1.37c-.4-.4-.92-.59-1.43-.59-.52 0-1.04.2-1.43.59L10.3 9.45l-7.72 7.72c-.78.78-.78 2.05 0 2.83L4 21.41c.39.39.9.59 1.41.59.51 0 1.02-.2 1.41-.59l7.78-7.78 2.81-2.81c.8-.78.8-2.07 0-2.86zM5.41 20L4 18.59l7.72-7.72 1.47 1.35L5.41 20z\"/>\n",
              "  </svg>\n",
              "      </button>\n",
              "      \n",
              "  <style>\n",
              "    .colab-df-container {\n",
              "      display:flex;\n",
              "      flex-wrap:wrap;\n",
              "      gap: 12px;\n",
              "    }\n",
              "\n",
              "    .colab-df-convert {\n",
              "      background-color: #E8F0FE;\n",
              "      border: none;\n",
              "      border-radius: 50%;\n",
              "      cursor: pointer;\n",
              "      display: none;\n",
              "      fill: #1967D2;\n",
              "      height: 32px;\n",
              "      padding: 0 0 0 0;\n",
              "      width: 32px;\n",
              "    }\n",
              "\n",
              "    .colab-df-convert:hover {\n",
              "      background-color: #E2EBFA;\n",
              "      box-shadow: 0px 1px 2px rgba(60, 64, 67, 0.3), 0px 1px 3px 1px rgba(60, 64, 67, 0.15);\n",
              "      fill: #174EA6;\n",
              "    }\n",
              "\n",
              "    [theme=dark] .colab-df-convert {\n",
              "      background-color: #3B4455;\n",
              "      fill: #D2E3FC;\n",
              "    }\n",
              "\n",
              "    [theme=dark] .colab-df-convert:hover {\n",
              "      background-color: #434B5C;\n",
              "      box-shadow: 0px 1px 3px 1px rgba(0, 0, 0, 0.15);\n",
              "      filter: drop-shadow(0px 1px 2px rgba(0, 0, 0, 0.3));\n",
              "      fill: #FFFFFF;\n",
              "    }\n",
              "  </style>\n",
              "\n",
              "      <script>\n",
              "        const buttonEl =\n",
              "          document.querySelector('#df-2368953d-a331-41e5-8f1b-9bedb1203513 button.colab-df-convert');\n",
              "        buttonEl.style.display =\n",
              "          google.colab.kernel.accessAllowed ? 'block' : 'none';\n",
              "\n",
              "        async function convertToInteractive(key) {\n",
              "          const element = document.querySelector('#df-2368953d-a331-41e5-8f1b-9bedb1203513');\n",
              "          const dataTable =\n",
              "            await google.colab.kernel.invokeFunction('convertToInteractive',\n",
              "                                                     [key], {});\n",
              "          if (!dataTable) return;\n",
              "\n",
              "          const docLinkHtml = 'Like what you see? Visit the ' +\n",
              "            '<a target=\"_blank\" href=https://colab.research.google.com/notebooks/data_table.ipynb>data table notebook</a>'\n",
              "            + ' to learn more about interactive tables.';\n",
              "          element.innerHTML = '';\n",
              "          dataTable['output_type'] = 'display_data';\n",
              "          await google.colab.output.renderOutput(dataTable, element);\n",
              "          const docLink = document.createElement('div');\n",
              "          docLink.innerHTML = docLinkHtml;\n",
              "          element.appendChild(docLink);\n",
              "        }\n",
              "      </script>\n",
              "    </div>\n",
              "  </div>\n",
              "  "
            ]
          },
          "metadata": {},
          "execution_count": 62
        }
      ]
    },
    {
      "cell_type": "code",
      "source": [
        "english_characters = 'abcdefghijklmnopqrstuvwxyzABCDEFGHIJKLMNOPQRSTUVWXYZ'\n",
        "def remove_english_characters(text):\n",
        "    result = ''\n",
        "    for char in text:\n",
        "        if char not in english_characters:\n",
        "            result += char\n",
        "    return result\n",
        "\n",
        "\n"
      ],
      "metadata": {
        "id": "6_-KIOKWcUrf"
      },
      "execution_count": null,
      "outputs": []
    },
    {
      "cell_type": "code",
      "source": [
        "train_set = train_set.reset_index()"
      ],
      "metadata": {
        "id": "vW9vCHDSfGxA"
      },
      "execution_count": null,
      "outputs": []
    },
    {
      "cell_type": "code",
      "source": [
        "import re\n",
        "for i in range (len(train_set[\"Tweet\"])):\n",
        "  train_set[\"Tweet\"][i] = re.sub(r'\\d+', '', str(train_set[\"Tweet\"][i]))\n",
        "  train_set[\"Tweet\"][i] = re.sub(r'[^\\w\\s]', '', str(train_set[\"Tweet\"][i] ))\n",
        "  train_set[\"Tweet\"][i] = re.sub(r'[,\\.,\\r,\\n,\\,!]', '', str(train_set[\"Tweet\"][i] ))\n",
        "  train_set[\"Tweet\"][i] = remove_english_characters(str(train_set[\"Tweet\"][i]))"
      ],
      "metadata": {
        "colab": {
          "base_uri": "https://localhost:8080/"
        },
        "id": "ApivQ4iNdjyB",
        "outputId": "17c4ffb2-d5d4-492c-f910-4eda10278b53"
      },
      "execution_count": null,
      "outputs": [
        {
          "output_type": "stream",
          "name": "stderr",
          "text": [
            "<ipython-input-61-624316274744>:3: SettingWithCopyWarning: \n",
            "A value is trying to be set on a copy of a slice from a DataFrame\n",
            "\n",
            "See the caveats in the documentation: https://pandas.pydata.org/pandas-docs/stable/user_guide/indexing.html#returning-a-view-versus-a-copy\n",
            "  train_set[\"Tweet\"][i] = re.sub(r'\\d+', '', str(train_set[\"Tweet\"][i]))\n",
            "<ipython-input-61-624316274744>:4: SettingWithCopyWarning: \n",
            "A value is trying to be set on a copy of a slice from a DataFrame\n",
            "\n",
            "See the caveats in the documentation: https://pandas.pydata.org/pandas-docs/stable/user_guide/indexing.html#returning-a-view-versus-a-copy\n",
            "  train_set[\"Tweet\"][i] = re.sub(r'[^\\w\\s]', '', str(train_set[\"Tweet\"][i] ))\n",
            "<ipython-input-61-624316274744>:5: SettingWithCopyWarning: \n",
            "A value is trying to be set on a copy of a slice from a DataFrame\n",
            "\n",
            "See the caveats in the documentation: https://pandas.pydata.org/pandas-docs/stable/user_guide/indexing.html#returning-a-view-versus-a-copy\n",
            "  train_set[\"Tweet\"][i] = re.sub(r'[,\\.,\\r,\\n,\\,!]', '', str(train_set[\"Tweet\"][i] ))\n",
            "<ipython-input-61-624316274744>:6: SettingWithCopyWarning: \n",
            "A value is trying to be set on a copy of a slice from a DataFrame\n",
            "\n",
            "See the caveats in the documentation: https://pandas.pydata.org/pandas-docs/stable/user_guide/indexing.html#returning-a-view-versus-a-copy\n",
            "  train_set[\"Tweet\"][i] = remove_english_characters(str(train_set[\"Tweet\"][i]))\n"
          ]
        }
      ]
    },
    {
      "cell_type": "code",
      "source": [
        "train_set[\"Tweet\"][0]"
      ],
      "metadata": {
        "colab": {
          "base_uri": "https://localhost:8080/",
          "height": 55
        },
        "id": "DrLBFBklezYr",
        "outputId": "ebfa6f55-996d-4f05-e45b-0f8d1f0ec43d"
      },
      "execution_count": null,
      "outputs": [
        {
          "output_type": "execute_result",
          "data": {
            "text/plain": [
              "'                                                                                                                                                                                                                                                                                                                                                                                                   '"
            ],
            "application/vnd.google.colaboratory.intrinsic+json": {
              "type": "string"
            }
          },
          "metadata": {},
          "execution_count": 67
        }
      ]
    },
    {
      "cell_type": "code",
      "source": [
        "combined_data.to_csv('aug_train.csv', index=False)"
      ],
      "metadata": {
        "id": "V5SUI7Gqd6BX"
      },
      "execution_count": null,
      "outputs": []
    },
    {
      "cell_type": "code",
      "source": [],
      "metadata": {
        "id": "WgzSTP15feDt"
      },
      "execution_count": null,
      "outputs": []
    }
  ]
}